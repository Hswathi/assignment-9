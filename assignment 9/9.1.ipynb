{
 "cells": [
  {
   "cell_type": "code",
   "execution_count": null,
   "id": "7c57132d",
   "metadata": {},
   "outputs": [
    {
     "name": "stdout",
     "output_type": "stream",
     "text": [
      "Let's play a game of Cowbull!\n",
      "Type exit at any prompt to exit.\n",
      "Give me your best guess!1659\n",
      "You have 3 cows, and 1 bulls.\n",
      "Your guess isn't quite right, try again.\n",
      "Give me your best guess!1655\n",
      "You have 3 cows, and 1 bulls.\n",
      "Your guess isn't quite right, try again.\n",
      "Give me your best guess!1365\n",
      "You have 3 cows, and 1 bulls.\n",
      "Your guess isn't quite right, try again.\n",
      "Give me your best guess!6541\n",
      "You have 4 cows, and 0 bulls.\n",
      "Your guess isn't quite right, try again.\n",
      "Give me your best guess!1654\n",
      "You have 3 cows, and 1 bulls.\n",
      "Your guess isn't quite right, try again.\n"
     ]
    }
   ],
   "source": [
    "import random\n",
    "\n",
    "def compare_numbers(number, user_guess):\n",
    "    cowbull = [0,0]\n",
    "    for i in range(len(number)):\n",
    "        if number[i] == user_guess[i]:\n",
    "            cowbull[1]+=1\n",
    "        else:\n",
    "            cowbull[0]+=1\n",
    "    return cowbull\n",
    "\n",
    "if __name__==\"__main__\":\n",
    "    playing = True \n",
    "    number = str(random.randint(0,9999)) \n",
    "    guesses = 0\n",
    "\n",
    "    print(\"Let's play a game of Cowbull!\")\n",
    "    print(\"Type exit at any prompt to exit.\")\n",
    "\n",
    "    while playing:\n",
    "        user_guess = input(\"Give me your best guess!\")\n",
    "        if user_guess == \"exit\":\n",
    "            break\n",
    "        cowbullcount = compare_numbers(number,user_guess)\n",
    "        guesses+=1\n",
    "\n",
    "        print(\"You have \"+ str(cowbullcount[0]) + \" cows, and \" + str(cowbullcount[1]) + \" bulls.\")\n",
    "\n",
    "        if cowbullcount[1]==4:\n",
    "            playing = False\n",
    "            print(\"You win the game after \" + str(guesses) + \"! The number was \"+str(number))\n",
    "            break \n",
    "        else:\n",
    "            print(\"Your guess isn't quite right, try again.\")"
   ]
  },
  {
   "cell_type": "code",
   "execution_count": null,
   "id": "aa05335c",
   "metadata": {},
   "outputs": [],
   "source": []
  }
 ],
 "metadata": {
  "kernelspec": {
   "display_name": "Python 3 (ipykernel)",
   "language": "python",
   "name": "python3"
  },
  "language_info": {
   "codemirror_mode": {
    "name": "ipython",
    "version": 3
   },
   "file_extension": ".py",
   "mimetype": "text/x-python",
   "name": "python",
   "nbconvert_exporter": "python",
   "pygments_lexer": "ipython3",
   "version": "3.9.13"
  }
 },
 "nbformat": 4,
 "nbformat_minor": 5
}
