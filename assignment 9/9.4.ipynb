{
 "cells": [
  {
   "cell_type": "code",
   "execution_count": 10,
   "id": "b4307a24",
   "metadata": {},
   "outputs": [
    {
     "name": "stdout",
     "output_type": "stream",
     "text": [
      "Original Coordinates: [(1, -2), (-2, 4), (-1, -1), (-8, -3), (0, 4), (10, -3)]\n",
      "New Coordinates: [(9, 6), (6, 12), (7, 7), (0, 5), (8, 12), (18, 5)]\n"
     ]
    }
   ],
   "source": [
    "def convert_to_positive_coords(coords):\n",
    "    # Find the smallest x and y values\n",
    "    min_x = min(coord[0] for coord in coords)\n",
    "    min_y = min(coord[1] for coord in coords)\n",
    "    new_coords = [(coord[0] - min_x, coord[1] - min_x) for coord in coords]\n",
    "    return new_coords\n",
    "coords = [(1,-2), (-2,4), (-1,-1), (-8,-3), (0,4),(10,-3)]\n",
    "new_coords = convert_to_positive_coords(coords)\n",
    "print(\"Original Coordinates:\", coords)\n",
    "print(\"New Coordinates:\", new_coords)"
   ]
  },
  {
   "cell_type": "code",
   "execution_count": null,
   "id": "baf2e8b8",
   "metadata": {},
   "outputs": [],
   "source": [
    "\n",
    "\n",
    "\n",
    "\n",
    "\n"
   ]
  },
  {
   "cell_type": "code",
   "execution_count": 2,
   "id": "ba219df9",
   "metadata": {},
   "outputs": [],
   "source": [
    "coords=[(1,-2),(-2,4),(-1,-1),(-8,-3),(0,4),(10,-3)]\n"
   ]
  },
  {
   "cell_type": "code",
   "execution_count": null,
   "id": "1e19de1f",
   "metadata": {},
   "outputs": [],
   "source": []
  }
 ],
 "metadata": {
  "kernelspec": {
   "display_name": "Python 3 (ipykernel)",
   "language": "python",
   "name": "python3"
  },
  "language_info": {
   "codemirror_mode": {
    "name": "ipython",
    "version": 3
   },
   "file_extension": ".py",
   "mimetype": "text/x-python",
   "name": "python",
   "nbconvert_exporter": "python",
   "pygments_lexer": "ipython3",
   "version": "3.9.13"
  }
 },
 "nbformat": 4,
 "nbformat_minor": 5
}
