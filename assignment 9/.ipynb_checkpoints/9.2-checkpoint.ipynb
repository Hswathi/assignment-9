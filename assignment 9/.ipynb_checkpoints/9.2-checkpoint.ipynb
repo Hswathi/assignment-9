{
 "cells": [
  {
   "cell_type": "code",
   "execution_count": 2,
   "id": "7c20e64a",
   "metadata": {},
   "outputs": [
    {
     "name": "stdout",
     "output_type": "stream",
     "text": [
      "__________\n",
      "Guess a letter: r\n",
      "Correct!\n",
      "r____r____\n",
      "Guess a letter: raindrop\n",
      "Correct!\n",
      "r____r____\n",
      "Guess a letter: a\n",
      "Correct!\n",
      "ra___r____\n",
      "Guess a letter: i\n",
      "Correct!\n",
      "rai__r____\n",
      "Guess a letter: n\n",
      "Correct!\n",
      "rain_r____\n",
      "Guess a letter: d\n",
      "Correct!\n",
      "raindr____\n",
      "Guess a letter: o\n",
      "Correct!\n",
      "raindro___\n",
      "Guess a letter: p\n",
      "Correct!\n",
      "raindrop__\n",
      "Guess a letter: s\n",
      "Correct!\n",
      "Congratulations, you guessed the word!\n"
     ]
    }
   ],
   "source": [
    "import random\n",
    "with open('words.txt', 'r') as f:\n",
    "    words = f.read().splitlines()\n",
    "def guess_word():\n",
    "    return random.choice(words)\n",
    "def play_game():\n",
    "    word = guess_word()\n",
    "    guessed_letters = []\n",
    "    num_guesses = 0\n",
    "    max_guesses = 10\n",
    "    while num_guesses < max_guesses:\n",
    "        display_word = \"\"\n",
    "        for letter in word:\n",
    "            if letter in guessed_letters:\n",
    "                display_word += letter\n",
    "            else:\n",
    "                display_word += \"_\"\n",
    "        print(display_word)\n",
    "        guess = input(\"Guess a letter: \")\n",
    "        if guess in guessed_letters:\n",
    "            print(\"You already guessed that letter!\")\n",
    "        elif guess in word:\n",
    "            print(\"Correct!\")\n",
    "            guessed_letters.append(guess)\n",
    "            if len(guessed_letters) == len(set(word)):\n",
    "                print(\"Congratulations, you guessed the word!\")\n",
    "                return\n",
    "        else:\n",
    "            print(\"Incorrect!\")\n",
    "            num_guesses += 1\n",
    "    print(\"Sorry, you ran out of guesses. The word was\", word)\n",
    "play_game()\n"
   ]
  },
  {
   "cell_type": "code",
   "execution_count": null,
   "id": "4d9e5987",
   "metadata": {},
   "outputs": [],
   "source": []
  }
 ],
 "metadata": {
  "kernelspec": {
   "display_name": "Python 3 (ipykernel)",
   "language": "python",
   "name": "python3"
  },
  "language_info": {
   "codemirror_mode": {
    "name": "ipython",
    "version": 3
   },
   "file_extension": ".py",
   "mimetype": "text/x-python",
   "name": "python",
   "nbconvert_exporter": "python",
   "pygments_lexer": "ipython3",
   "version": "3.9.13"
  }
 },
 "nbformat": 4,
 "nbformat_minor": 5
}
